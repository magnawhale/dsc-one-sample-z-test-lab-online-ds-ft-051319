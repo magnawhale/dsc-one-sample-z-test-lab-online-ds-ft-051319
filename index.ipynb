{
 "cells": [
  {
   "cell_type": "markdown",
   "metadata": {},
   "source": [
    "# One-Sample z-test - Lab\n",
    "\n",
    "## Introduction\n",
    "In this lab you'll perform a few quick tests to help you better understand how hypothesis testing works.\n",
    "\n",
    "## Objectives\n",
    "You will be able to:\n",
    "* Understand and explain use cases for a one-sample z-test\n",
    "* Set up null and alternative hypotheses\n",
    "* Calculate z-statistic using z-tables and CDF functions\n",
    "* Calculate and interpret p-value for significance of results\n",
    "\n",
    "## Exercise 1\n",
    "A fast food chain claims that the mean time to order food at their restaurants is 60 seconds, with a standard deviation of 30 seconds. You decide to put this claim to the test and go to one of the restaurants to observe actual waiting times. You take a sample of 36 customers and find that the mean order time was 75 seconds. Does this finding prove enough evidence to contradict the fast food chain's claim of fast service?\n",
    "\n",
    "Follow the 5 steps shown in previous lesson and use $\\alpha$ = 0.05. "
   ]
  },
  {
   "cell_type": "code",
   "execution_count": 1,
   "metadata": {},
   "outputs": [
    {
     "name": "stdout",
     "output_type": "stream",
     "text": [
      "\n",
      "Alternative Hypothesis : mu = M\n",
      "Null Hypothesis : mu != M\n",
      "\n"
     ]
    }
   ],
   "source": [
    "# State your null and alternative hypotheses\n",
    "print(\"\"\"\n",
    "Alternative Hypothesis : mu = M\n",
    "Null Hypothesis : mu != M\n",
    "\"\"\")\n",
    "import scipy.stats as stats\n",
    "from math import sqrt"
   ]
  },
  {
   "cell_type": "code",
   "execution_count": 6,
   "metadata": {},
   "outputs": [
    {
     "name": "stdout",
     "output_type": "stream",
     "text": [
      "p-value = 0.0013498980316301035\n",
      "z = 3.0\n"
     ]
    }
   ],
   "source": [
    "# Your solution here\n",
    "n = 36\n",
    "x_bar = 75\n",
    "sigma = 30\n",
    "mu = 60\n",
    "z = (x_bar - mu)/(sigma/sqrt(n))\n",
    "z_stat = stats.norm.cdf(z)\n",
    "p = 1- z_stat\n",
    "print(f\"p-value = {p}\")\n",
    "print(f\"z = {z}\")\n",
    "# (p = 0.0013498980316301035, z = 3.0)"
   ]
  },
  {
   "cell_type": "code",
   "execution_count": 8,
   "metadata": {},
   "outputs": [
    {
     "name": "stdout",
     "output_type": "stream",
     "text": [
      "We can reject the null hypothesis (that the restaurants are lying) with a confidence level of 99.9%\n"
     ]
    }
   ],
   "source": [
    "# Interpret the results in terms of the p-value\n",
    "print('We can reject the null hypothesis (that the restaurants are lying) with a confidence level of 99.9%')"
   ]
  },
  {
   "cell_type": "markdown",
   "metadata": {},
   "source": [
    "## Exercise 2\n",
    "\n",
    "25 students complete a preparation program for taking the SAT test.  Here are the SAT scores from the 25 students who completed  program:\n",
    "\n",
    "``\n",
    "434 694 457 534 720 400 484 478 610 641 425 636 454 \n",
    "514 563 370 499 640 501 625 612 471 598 509 531\n",
    "``\n",
    "\n",
    "We know that the population average for SAT scores is 500 with a standard deviation of 100.\n",
    "\n",
    "Are our 25 students’ SAT scores significantly higher than the population's mean score? \n",
    "\n",
    "*Note that the SAT preparation program claims that it will increase (and not decrease) the SAT score.  So, you can conduct a one-directional test. (alpha = .05).*"
   ]
  },
  {
   "cell_type": "code",
   "execution_count": 13,
   "metadata": {},
   "outputs": [
    {
     "name": "stdout",
     "output_type": "stream",
     "text": [
      "Alt. Hypothesis: mu < M \n",
      "Null Hypothesis: mu >= M\n"
     ]
    }
   ],
   "source": [
    "# State your hypotheses \n",
    "print(\"Alt. Hypothesis: mu < M \\nNull Hypothesis: mu >= M\")"
   ]
  },
  {
   "cell_type": "code",
   "execution_count": 12,
   "metadata": {},
   "outputs": [
    {
     "name": "stdout",
     "output_type": "stream",
     "text": [
      "p-value = 0.03593031911292577\n",
      "z = 1.8\n"
     ]
    }
   ],
   "source": [
    "# Give your solution here \n",
    "import numpy as np\n",
    "\n",
    "sample = [434, 694, 457, 534, 720, 400, 484, 478, 610, 641, 425, 636, 454, \n",
    "          514, 563, 370, 499, 640, 501, 625, 612, 471, 598, 509, 531]\n",
    "mu = 500\n",
    "sigma = 100\n",
    "n = 25\n",
    "x_bar = np.mean(sample)\n",
    "z = (x_bar - mu)/(sigma/sqrt(n))\n",
    "z_stat = stats.norm.cdf(z)\n",
    "p = 1- z_stat\n",
    "print(f\"p-value = {p}\")\n",
    "print(f\"z = {z}\")\n",
    "\n",
    "# p = 0.03593031911292577, z = 1.8"
   ]
  },
  {
   "cell_type": "code",
   "execution_count": 14,
   "metadata": {},
   "outputs": [
    {
     "name": "stdout",
     "output_type": "stream",
     "text": [
      "We can confidently reject our null hypothesis...preparing for the SAT will improve performance\n"
     ]
    }
   ],
   "source": [
    "# Interpret the results in terms of the p-value\n",
    "print('We can confidently reject our null hypothesis...preparing for the SAT will improve performance')"
   ]
  },
  {
   "cell_type": "markdown",
   "metadata": {},
   "source": [
    "## Summary\n",
    "\n",
    "In this lesson, you conducted a couple of simple tests comparing sample and population means, in an attempt to reject our null hypotheses. This provides you with a strong foundation to move ahead with more advanced tests and approaches later on."
   ]
  }
 ],
 "metadata": {
  "kernelspec": {
   "display_name": "Python [conda env:learn-env] *",
   "language": "python",
   "name": "conda-env-learn-env-py"
  },
  "language_info": {
   "codemirror_mode": {
    "name": "ipython",
    "version": 3
   },
   "file_extension": ".py",
   "mimetype": "text/x-python",
   "name": "python",
   "nbconvert_exporter": "python",
   "pygments_lexer": "ipython3",
   "version": "3.6.6"
  }
 },
 "nbformat": 4,
 "nbformat_minor": 2
}
